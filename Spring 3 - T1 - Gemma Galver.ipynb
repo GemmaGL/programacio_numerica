{
 "cells": [
  {
   "cell_type": "markdown",
   "id": "c7807b0b",
   "metadata": {},
   "source": [
    "# Spring3 - Tasca 1\n",
    "\n",
    "### Exercici 1\n",
    "\n",
    "Crea una funció que donat un Array d’una dimensió, et faci un resum estadístic bàsic de les dades. Si detecta que l’array té més d’una dimensió, ha de mostrar un missatge d’error."
   ]
  },
  {
   "cell_type": "code",
   "execution_count": 22,
   "id": "072476d1",
   "metadata": {},
   "outputs": [],
   "source": [
    "import numpy as np"
   ]
  },
  {
   "cell_type": "code",
   "execution_count": 27,
   "id": "4cb8da7b",
   "metadata": {},
   "outputs": [],
   "source": [
    "def estadist_array(lista):\n",
    "    if lista.ndim !=1:\n",
    "        print(\"Error\")\n",
    "    else:\n",
    "        m = np.min(lista)\n",
    "        mx= np.max(lista)\n",
    "        mean= np.mean(lista)\n",
    "        desv= np.std(lista)\n",
    "        print( \"El mínim és \" + str(m) + \". El màxim és \" + str(mx) + \". La mitja és \" + str(mean) + \". La desviació és \" + str(desv) + \".\")"
   ]
  },
  {
   "cell_type": "code",
   "execution_count": 28,
   "id": "fee0c7d2",
   "metadata": {},
   "outputs": [
    {
     "name": "stdout",
     "output_type": "stream",
     "text": [
      "El mínim és 1. El màxim és 8. La mitja és 5.0. La desviació és 2.138089935299395.\n"
     ]
    }
   ],
   "source": [
    "array = np.array([1,4,6,7,4,8,5])\n",
    "\n",
    "        \n",
    "estadist_array(array)\n",
    "        \n",
    "    \n",
    "    "
   ]
  },
  {
   "cell_type": "markdown",
   "id": "db21632d",
   "metadata": {},
   "source": [
    "### Exercici 2\n",
    "\n",
    "Crea una funció que et generi un quadrat NxN de nombres aleatoris entre el 0 i el 100."
   ]
  },
  {
   "cell_type": "code",
   "execution_count": 29,
   "id": "998917da",
   "metadata": {},
   "outputs": [
    {
     "name": "stdout",
     "output_type": "stream",
     "text": [
      "[[93 71 73]\n",
      " [74 11 82]\n",
      " [57 65 87]]\n"
     ]
    }
   ],
   "source": [
    "def generacio_quadrat(n):\n",
    "    a=np.random.randint(101,size=(n,n))\n",
    "    print (a)\n",
    "\n",
    "generacio_quadrat(3)"
   ]
  },
  {
   "cell_type": "markdown",
   "id": "20d0e775",
   "metadata": {},
   "source": [
    "### Exercici 3\n",
    "\n",
    "Crea una funció que donada una taula de dues dimensions (NxM), et calculi els totals per fila i els totals per columna."
   ]
  },
  {
   "cell_type": "code",
   "execution_count": 37,
   "id": "279c2b13",
   "metadata": {},
   "outputs": [
    {
     "data": {
      "text/plain": [
       "array([[2, 5, 7],\n",
       "       [4, 6, 8]])"
      ]
     },
     "execution_count": 37,
     "metadata": {},
     "output_type": "execute_result"
    }
   ],
   "source": [
    "taula2 = np.array([[2,5,7],[4,6,8]])\n",
    "taula2"
   ]
  },
  {
   "cell_type": "code",
   "execution_count": 36,
   "id": "d8af8cd1",
   "metadata": {},
   "outputs": [
    {
     "data": {
      "text/plain": [
       "array([ 6, 11, 15])"
      ]
     },
     "execution_count": 36,
     "metadata": {},
     "output_type": "execute_result"
    }
   ],
   "source": [
    "def totals_fila(lista1):\n",
    "    tf = np.sum(lista1, axis=0)\n",
    "    return tf\n",
    "\n",
    "totals_fila(taula2)"
   ]
  },
  {
   "cell_type": "code",
   "execution_count": 35,
   "id": "90ab54c7",
   "metadata": {},
   "outputs": [
    {
     "data": {
      "text/plain": [
       "array([14, 18])"
      ]
     },
     "execution_count": 35,
     "metadata": {},
     "output_type": "execute_result"
    }
   ],
   "source": [
    "def totals_columna(lista1):\n",
    "    tc= np.sum(lista1, axis=1)\n",
    "    return tc\n",
    "\n",
    "totals_columna(taula2)"
   ]
  },
  {
   "cell_type": "markdown",
   "id": "fcb8f539",
   "metadata": {},
   "source": [
    "### Exercici 4\n",
    "\n",
    "Implementa manualment una funció que calculi el coeficient de correlació. Informa-te'n sobre els seus usos i interpretació."
   ]
  },
  {
   "cell_type": "code",
   "execution_count": 39,
   "id": "6957d6b0",
   "metadata": {},
   "outputs": [],
   "source": [
    "array1 = np.array([3,6,2,8,5,7,8,9,2,1,5,6])\n",
    "array2 = np.array([4,6,2,7,5,6,8,9,7,3,1,5])"
   ]
  },
  {
   "cell_type": "code",
   "execution_count": 40,
   "id": "466df7bb",
   "metadata": {},
   "outputs": [
    {
     "data": {
      "text/plain": [
       "array([[1.        , 0.65826241],\n",
       "       [0.65826241, 1.        ]])"
      ]
     },
     "execution_count": 40,
     "metadata": {},
     "output_type": "execute_result"
    }
   ],
   "source": [
    "def coef_correlacio(lista3, lista4):\n",
    "    cr = np.corrcoef(lista3,lista4)\n",
    "    return cr\n",
    "\n",
    "coef_correlacio(array1,array2)"
   ]
  },
  {
   "cell_type": "markdown",
   "id": "93564278",
   "metadata": {},
   "source": [
    "El coeficient de correlació serveix principalment per determinar si hi ha una relació lineal significativa entre dues variables.\n",
    "\n",
    "El valor del coeficient de relació pot estar entre 1 i -1. \n",
    "- Si el valor és 1 o molt proper a 1 significa que la relació lineal entre les dues variables és molt significativa. Això vol dir que si una de les variables augmenta, l'altre també ho farà.  \n",
    "- Si el valor és 0 o proper a 0 vol dir que no hi ha relació lineal entre les variables de manera que el comportament d'una no afectarà al comportament de l'altre. \n",
    "- Si el valor és -1 o molt proper significa que la seva relació lineal és inversa. De manera que quan una variable augmenti l'altre disminuirà. I al revés.\n",
    "\n",
    "Això pot servir per a predir valors d'una variable en funció de l'altre, en el cas que tinguin relació lineal significativa (tant positiva com negativa). Això permet crear models predictius precisos. I es pot aplicar a diferents camps com:\n",
    "\n",
    "- Investigació cientifica: estudis mèdics, factors de risc, medicaments i enfermetats, ...\n",
    "- Finances i economia: evaluar la relació entre diferents variables econòmiques com els preus, els tipos d'interès, l'endeutaments,...\n",
    "- Ciències socials: relació entre estudis i ingresos, per evaluar la relació de la pobresa amb altres variables socials, ..."
   ]
  }
 ],
 "metadata": {
  "kernelspec": {
   "display_name": "Python 3 (ipykernel)",
   "language": "python",
   "name": "python3"
  },
  "language_info": {
   "codemirror_mode": {
    "name": "ipython",
    "version": 3
   },
   "file_extension": ".py",
   "mimetype": "text/x-python",
   "name": "python",
   "nbconvert_exporter": "python",
   "pygments_lexer": "ipython3",
   "version": "3.9.13"
  }
 },
 "nbformat": 4,
 "nbformat_minor": 5
}
